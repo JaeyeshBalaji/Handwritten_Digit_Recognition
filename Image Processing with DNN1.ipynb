{
 "cells": [
  {
   "cell_type": "markdown",
   "id": "56296da1",
   "metadata": {},
   "source": [
    "# Image Processing with DNN"
   ]
  },
  {
   "cell_type": "code",
   "id": "66a4de03",
   "metadata": {
    "ExecuteTime": {
     "end_time": "2024-12-25T17:12:19.202216Z",
     "start_time": "2024-12-25T17:12:19.199412Z"
    }
   },
   "source": [
    "import tensorflow as tf"
   ],
   "outputs": [],
   "execution_count": 39
  },
  {
   "cell_type": "code",
   "id": "9a7a1e1f",
   "metadata": {
    "ExecuteTime": {
     "end_time": "2024-12-25T17:12:19.210273Z",
     "start_time": "2024-12-25T17:12:19.207909Z"
    }
   },
   "source": [
    "from tensorflow import keras"
   ],
   "outputs": [],
   "execution_count": 40
  },
  {
   "cell_type": "code",
   "id": "bbfe687c",
   "metadata": {
    "ExecuteTime": {
     "end_time": "2024-12-25T17:12:19.257070Z",
     "start_time": "2024-12-25T17:12:19.254339Z"
    }
   },
   "source": [
    "mnist=keras.datasets.mnist"
   ],
   "outputs": [],
   "execution_count": 41
  },
  {
   "cell_type": "code",
   "id": "dc7bf2cc",
   "metadata": {
    "ExecuteTime": {
     "end_time": "2024-12-25T17:12:19.517090Z",
     "start_time": "2024-12-25T17:12:19.310671Z"
    }
   },
   "source": [
    "(train_images,train_labels),(test_images,test_labels)=mnist.load_data()"
   ],
   "outputs": [],
   "execution_count": 42
  },
  {
   "cell_type": "code",
   "id": "e69f880a",
   "metadata": {
    "ExecuteTime": {
     "end_time": "2024-12-25T17:12:19.532110Z",
     "start_time": "2024-12-25T17:12:19.528480Z"
    }
   },
   "source": [
    "train_images.shape"
   ],
   "outputs": [
    {
     "data": {
      "text/plain": [
       "(60000, 28, 28)"
      ]
     },
     "execution_count": 43,
     "metadata": {},
     "output_type": "execute_result"
    }
   ],
   "execution_count": 43
  },
  {
   "cell_type": "code",
   "id": "8dab9342",
   "metadata": {
    "ExecuteTime": {
     "end_time": "2024-12-25T17:12:19.591526Z",
     "start_time": "2024-12-25T17:12:19.587548Z"
    }
   },
   "source": [
    "train_labels"
   ],
   "outputs": [
    {
     "data": {
      "text/plain": [
       "array([5, 0, 4, ..., 5, 6, 8], dtype=uint8)"
      ]
     },
     "execution_count": 44,
     "metadata": {},
     "output_type": "execute_result"
    }
   ],
   "execution_count": 44
  },
  {
   "cell_type": "code",
   "id": "c04dce18",
   "metadata": {
    "ExecuteTime": {
     "end_time": "2024-12-25T17:12:19.642594Z",
     "start_time": "2024-12-25T17:12:19.640015Z"
    }
   },
   "source": [
    "from matplotlib import pyplot as plt"
   ],
   "outputs": [],
   "execution_count": 45
  },
  {
   "cell_type": "code",
   "id": "cbc60b97",
   "metadata": {
    "ExecuteTime": {
     "end_time": "2024-12-25T17:12:19.793780Z",
     "start_time": "2024-12-25T17:12:19.692018Z"
    }
   },
   "source": [
    "plt.imshow(train_images[0],cmap=\"gray\");"
   ],
   "outputs": [
    {
     "data": {
      "text/plain": [
       "<Figure size 640x480 with 1 Axes>"
      ],
      "image/png": "[encoded data removed]"
     },
     "metadata": {},
     "output_type": "display_data"
    }
   ],
   "execution_count": 46
  },
  {
   "cell_type": "code",
   "id": "a9acd422",
   "metadata": {
    "ExecuteTime": {
     "end_time": "2024-12-25T17:12:19.902826Z",
     "start_time": "2024-12-25T17:12:19.804122Z"
    }
   },
   "source": [
    "plt.imshow(train_images[59999],cmap=\"gray\");"
   ],
   "outputs": [
    {
     "data": {
      "text/plain": [
       "<Figure size 640x480 with 1 Axes>"
      ],
      "image/png": "[encoded data removed]"
     },
     "metadata": {},
     "output_type": "display_data"
    }
   ],
   "execution_count": 47
  },
  {
   "cell_type": "code",
   "id": "b5b4ad2c",
   "metadata": {
    "ExecuteTime": {
     "end_time": "2024-12-25T17:12:20.017912Z",
     "start_time": "2024-12-25T17:12:19.920375Z"
    }
   },
   "source": [
    "plt.imshow(train_images[25000],cmap=\"gray\");"
   ],
   "outputs": [
    {
     "data": {
      "text/plain": [
       "<Figure size 640x480 with 1 Axes>"
      ],
      "image/png": "[encoded data removed]"
     },
     "metadata": {},
     "output_type": "display_data"
    }
   ],
   "execution_count": 48
  },
  {
   "cell_type": "code",
   "id": "bdf265f5",
   "metadata": {
    "ExecuteTime": {
     "end_time": "2024-12-25T17:12:20.026936Z",
     "start_time": "2024-12-25T17:12:20.024673Z"
    }
   },
   "source": [
    "# Normalizing the data"
   ],
   "outputs": [],
   "execution_count": 49
  },
  {
   "cell_type": "code",
   "id": "75c619b9",
   "metadata": {
    "ExecuteTime": {
     "end_time": "2024-12-25T17:12:20.082237Z",
     "start_time": "2024-12-25T17:12:20.076770Z"
    }
   },
   "source": [
    "train_images[0]"
   ],
   "outputs": [
    {
     "data": {
      "text/plain": [
       "array([[  0,   0,   0,   0,   0,   0,   0,   0,   0,   0,   0,   0,   0,\n",
       "          0,   0,   0,   0,   0,   0,   0,   0,   0,   0,   0,   0,   0,\n",
       "          0,   0],\n",
       "       [  0,   0,   0,   0,   0,   0,   0,   0,   0,   0,   0,   0,   0,\n",
       "          0,   0,   0,   0,   0,   0,   0,   0,   0,   0,   0,   0,   0,\n",
       "          0,   0],\n",
       "       [  0,   0,   0,   0,   0,   0,   0,   0,   0,   0,   0,   0,   0,\n",
       "          0,   0,   0,   0,   0,   0,   0,   0,   0,   0,   0,   0,   0,\n",
       "          0,   0],\n",
       "       [  0,   0,   0,   0,   0,   0,   0,   0,   0,   0,   0,   0,   0,\n",
       "          0,   0,   0,   0,   0,   0,   0,   0,   0,   0,   0,   0,   0,\n",
       "          0,   0],\n",
       "       [  0,   0,   0,   0,   0,   0,   0,   0,   0,   0,   0,   0,   0,\n",
       "          0,   0,   0,   0,   0,   0,   0,   0,   0,   0,   0,   0,   0,\n",
       "          0,   0],\n",
       "       [  0,   0,   0,   0,   0,   0,   0,   0,   0,   0,   0,   0,   3,\n",
       "         18,  18,  18, 126, 136, 175,  26, 166, 255, 247, 127,   0,   0,\n",
       "          0,   0],\n",
       "       [  0,   0,   0,   0,   0,   0,   0,   0,  30,  36,  94, 154, 170,\n",
       "        253, 253, 253, 253, 253, 225, 172, 253, 242, 195,  64,   0,   0,\n",
       "          0,   0],\n",
       "       [  0,   0,   0,   0,   0,   0,   0,  49, 238, 253, 253, 253, 253,\n",
       "        253, 253, 253, 253, 251,  93,  82,  82,  56,  39,   0,   0,   0,\n",
       "          0,   0],\n",
       "       [  0,   0,   0,   0,   0,   0,   0,  18, 219, 253, 253, 253, 253,\n",
       "        253, 198, 182, 247, 241,   0,   0,   0,   0,   0,   0,   0,   0,\n",
       "          0,   0],\n",
       "       [  0,   0,   0,   0,   0,   0,   0,   0,  80, 156, 107, 253, 253,\n",
       "        205,  11,   0,  43, 154,   0,   0,   0,   0,   0,   0,   0,   0,\n",
       "          0,   0],\n",
       "       [  0,   0,   0,   0,   0,   0,   0,   0,   0,  14,   1, 154, 253,\n",
       "         90,   0,   0,   0,   0,   0,   0,   0,   0,   0,   0,   0,   0,\n",
       "          0,   0],\n",
       "       [  0,   0,   0,   0,   0,   0,   0,   0,   0,   0,   0, 139, 253,\n",
       "        190,   2,   0,   0,   0,   0,   0,   0,   0,   0,   0,   0,   0,\n",
       "          0,   0],\n",
       "       [  0,   0,   0,   0,   0,   0,   0,   0,   0,   0,   0,  11, 190,\n",
       "        253,  70,   0,   0,   0,   0,   0,   0,   0,   0,   0,   0,   0,\n",
       "          0,   0],\n",
       "       [  0,   0,   0,   0,   0,   0,   0,   0,   0,   0,   0,   0,  35,\n",
       "        241, 225, 160, 108,   1,   0,   0,   0,   0,   0,   0,   0,   0,\n",
       "          0,   0],\n",
       "       [  0,   0,   0,   0,   0,   0,   0,   0,   0,   0,   0,   0,   0,\n",
       "         81, 240, 253, 253, 119,  25,   0,   0,   0,   0,   0,   0,   0,\n",
       "          0,   0],\n",
       "       [  0,   0,   0,   0,   0,   0,   0,   0,   0,   0,   0,   0,   0,\n",
       "          0,  45, 186, 253, 253, 150,  27,   0,   0,   0,   0,   0,   0,\n",
       "          0,   0],\n",
       "       [  0,   0,   0,   0,   0,   0,   0,   0,   0,   0,   0,   0,   0,\n",
       "          0,   0,  16,  93, 252, 253, 187,   0,   0,   0,   0,   0,   0,\n",
       "          0,   0],\n",
       "       [  0,   0,   0,   0,   0,   0,   0,   0,   0,   0,   0,   0,   0,\n",
       "          0,   0,   0,   0, 249, 253, 249,  64,   0,   0,   0,   0,   0,\n",
       "          0,   0],\n",
       "       [  0,   0,   0,   0,   0,   0,   0,   0,   0,   0,   0,   0,   0,\n",
       "          0,  46, 130, 183, 253, 253, 207,   2,   0,   0,   0,   0,   0,\n",
       "          0,   0],\n",
       "       [  0,   0,   0,   0,   0,   0,   0,   0,   0,   0,   0,   0,  39,\n",
       "        148, 229, 253, 253, 253, 250, 182,   0,   0,   0,   0,   0,   0,\n",
       "          0,   0],\n",
       "       [  0,   0,   0,   0,   0,   0,   0,   0,   0,   0,  24, 114, 221,\n",
       "        253, 253, 253, 253, 201,  78,   0,   0,   0,   0,   0,   0,   0,\n",
       "          0,   0],\n",
       "       [  0,   0,   0,   0,   0,   0,   0,   0,  23,  66, 213, 253, 253,\n",
       "        253, 253, 198,  81,   2,   0,   0,   0,   0,   0,   0,   0,   0,\n",
       "          0,   0],\n",
       "       [  0,   0,   0,   0,   0,   0,  18, 171, 219, 253, 253, 253, 253,\n",
       "        195,  80,   9,   0,   0,   0,   0,   0,   0,   0,   0,   0,   0,\n",
       "          0,   0],\n",
       "       [  0,   0,   0,   0,  55, 172, 226, 253, 253, 253, 253, 244, 133,\n",
       "         11,   0,   0,   0,   0,   0,   0,   0,   0,   0,   0,   0,   0,\n",
       "          0,   0],\n",
       "       [  0,   0,   0,   0, 136, 253, 253, 253, 212, 135, 132,  16,   0,\n",
       "          0,   0,   0,   0,   0,   0,   0,   0,   0,   0,   0,   0,   0,\n",
       "          0,   0],\n",
       "       [  0,   0,   0,   0,   0,   0,   0,   0,   0,   0,   0,   0,   0,\n",
       "          0,   0,   0,   0,   0,   0,   0,   0,   0,   0,   0,   0,   0,\n",
       "          0,   0],\n",
       "       [  0,   0,   0,   0,   0,   0,   0,   0,   0,   0,   0,   0,   0,\n",
       "          0,   0,   0,   0,   0,   0,   0,   0,   0,   0,   0,   0,   0,\n",
       "          0,   0],\n",
       "       [  0,   0,   0,   0,   0,   0,   0,   0,   0,   0,   0,   0,   0,\n",
       "          0,   0,   0,   0,   0,   0,   0,   0,   0,   0,   0,   0,   0,\n",
       "          0,   0]], dtype=uint8)"
      ]
     },
     "execution_count": 50,
     "metadata": {},
     "output_type": "execute_result"
    }
   ],
   "execution_count": 50
  },
  {
   "cell_type": "code",
   "id": "2ba7124d",
   "metadata": {
    "ExecuteTime": {
     "end_time": "2024-12-25T17:12:20.352657Z",
     "start_time": "2024-12-25T17:12:20.153721Z"
    }
   },
   "source": [
    "# Since max val is 255, normalize with 255\n",
    "train_images=train_images/255.0\n",
    "test_images=test_images/255.0"
   ],
   "outputs": [],
   "execution_count": 51
  },
  {
   "cell_type": "code",
   "id": "4806314e",
   "metadata": {
    "ExecuteTime": {
     "end_time": "2024-12-25T17:12:20.477571Z",
     "start_time": "2024-12-25T17:12:20.380137Z"
    }
   },
   "source": [
    "plt.imshow(train_images[25000],cmap=\"gray\");"
   ],
   "outputs": [
    {
     "data": {
      "text/plain": [
       "<Figure size 640x480 with 1 Axes>"
      ],
      "image/png": "[encoded data removed]"
     },
     "metadata": {},
     "output_type": "display_data"
    }
   ],
   "execution_count": 52
  },
  {
   "cell_type": "code",
   "id": "fdc65c62",
   "metadata": {
    "ExecuteTime": {
     "end_time": "2024-12-25T17:12:20.496758Z",
     "start_time": "2024-12-25T17:12:20.494963Z"
    }
   },
   "source": [
    "# no change after normalizing"
   ],
   "outputs": [],
   "execution_count": 53
  },
  {
   "cell_type": "code",
   "id": "6505194f",
   "metadata": {
    "ExecuteTime": {
     "end_time": "2024-12-25T17:12:20.540124Z",
     "start_time": "2024-12-25T17:12:20.537272Z"
    }
   },
   "source": [
    "from tensorflow.keras.models import Sequential\n",
    "from tensorflow.keras.layers import Dense,Conv2D,MaxPooling2D,Flatten,InputLayer,Reshape\n",
    "import tensorflow as tf"
   ],
   "outputs": [],
   "execution_count": 54
  },
  {
   "cell_type": "code",
   "id": "7de72772",
   "metadata": {
    "ExecuteTime": {
     "end_time": "2024-12-25T17:12:20.621526Z",
     "start_time": "2024-12-25T17:12:20.589296Z"
    }
   },
   "source": [
    "# CNN \n",
    "\n",
    "model = Sequential()\n",
    "model.add(InputLayer(input_shape=(28, 28)))  # Input layer\n",
    "model.add(Reshape(target_shape=(28, 28, 1)))  # Grayscale channel (1)\n",
    "model.add(Conv2D(filters=12, kernel_size=(3, 3), activation=\"relu\"))  # CNN layer\n",
    "model.add(MaxPooling2D(pool_size=(2, 2)))  # Max pooling layer\n",
    "model.add(Flatten())  # Flatten to 1D\n",
    "model.add(Dense(10))  # Fully connected layer\n",
    "model.compile(\n",
    "    loss=tf.keras.losses.SparseCategoricalCrossentropy(from_logits=True),\n",
    "    optimizer=\"adam\",\n",
    "    metrics=[\"accuracy\"]  # Correctly wrap \"accuracy\" in a list\n",
    ")"
   ],
   "outputs": [],
   "execution_count": 55
  },
  {
   "cell_type": "code",
   "id": "bcede0f8",
   "metadata": {
    "ExecuteTime": {
     "end_time": "2024-12-25T17:12:30.715272Z",
     "start_time": "2024-12-25T17:12:20.650725Z"
    }
   },
   "source": [
    "history=model.fit(train_images,train_labels,batch_size=128,epochs=10,verbose=1,validation_data=(test_images,test_labels))"
   ],
   "outputs": [
    {
     "name": "stdout",
     "output_type": "stream",
     "text": [
      "Epoch 1/10\n",
      "\u001B[1m469/469\u001B[0m \u001B[32m━━━━━━━━━━━━━━━━━━━━\u001B[0m\u001B[37m\u001B[0m \u001B[1m2s\u001B[0m 3ms/step - accuracy: 0.8028 - loss: 0.7761 - val_accuracy: 0.9378 - val_loss: 0.2188\n",
      "Epoch 2/10\n",
      "\u001B[1m469/469\u001B[0m \u001B[32m━━━━━━━━━━━━━━━━━━━━\u001B[0m\u001B[37m\u001B[0m \u001B[1m1s\u001B[0m 2ms/step - accuracy: 0.9411 - loss: 0.2069 - val_accuracy: 0.9609 - val_loss: 0.1413\n",
      "Epoch 3/10\n",
      "\u001B[1m469/469\u001B[0m \u001B[32m━━━━━━━━━━━━━━━━━━━━\u001B[0m\u001B[37m\u001B[0m \u001B[1m1s\u001B[0m 2ms/step - accuracy: 0.9615 - loss: 0.1374 - val_accuracy: 0.9694 - val_loss: 0.1079\n",
      "Epoch 4/10\n",
      "\u001B[1m469/469\u001B[0m \u001B[32m━━━━━━━━━━━━━━━━━━━━\u001B[0m\u001B[37m\u001B[0m \u001B[1m1s\u001B[0m 1ms/step - accuracy: 0.9720 - loss: 0.1021 - val_accuracy: 0.9744 - val_loss: 0.0896\n",
      "Epoch 5/10\n",
      "\u001B[1m469/469\u001B[0m \u001B[32m━━━━━━━━━━━━━━━━━━━━\u001B[0m\u001B[37m\u001B[0m \u001B[1m1s\u001B[0m 2ms/step - accuracy: 0.9744 - loss: 0.0905 - val_accuracy: 0.9761 - val_loss: 0.0786\n",
      "Epoch 6/10\n",
      "\u001B[1m469/469\u001B[0m \u001B[32m━━━━━━━━━━━━━━━━━━━━\u001B[0m\u001B[37m\u001B[0m \u001B[1m1s\u001B[0m 2ms/step - accuracy: 0.9802 - loss: 0.0723 - val_accuracy: 0.9767 - val_loss: 0.0754\n",
      "Epoch 7/10\n",
      "\u001B[1m469/469\u001B[0m \u001B[32m━━━━━━━━━━━━━━━━━━━━\u001B[0m\u001B[37m\u001B[0m \u001B[1m1s\u001B[0m 2ms/step - accuracy: 0.9813 - loss: 0.0662 - val_accuracy: 0.9790 - val_loss: 0.0696\n",
      "Epoch 8/10\n",
      "\u001B[1m469/469\u001B[0m \u001B[32m━━━━━━━━━━━━━━━━━━━━\u001B[0m\u001B[37m\u001B[0m \u001B[1m1s\u001B[0m 2ms/step - accuracy: 0.9827 - loss: 0.0624 - val_accuracy: 0.9780 - val_loss: 0.0654\n",
      "Epoch 9/10\n",
      "\u001B[1m469/469\u001B[0m \u001B[32m━━━━━━━━━━━━━━━━━━━━\u001B[0m\u001B[37m\u001B[0m \u001B[1m1s\u001B[0m 2ms/step - accuracy: 0.9845 - loss: 0.0552 - val_accuracy: 0.9808 - val_loss: 0.0619\n",
      "Epoch 10/10\n",
      "\u001B[1m469/469\u001B[0m \u001B[32m━━━━━━━━━━━━━━━━━━━━\u001B[0m\u001B[37m\u001B[0m \u001B[1m1s\u001B[0m 2ms/step - accuracy: 0.9863 - loss: 0.0494 - val_accuracy: 0.9805 - val_loss: 0.0615\n"
     ]
    }
   ],
   "execution_count": 56
  },
  {
   "cell_type": "code",
   "id": "53146732",
   "metadata": {
    "ExecuteTime": {
     "end_time": "2024-12-25T17:12:31.274807Z",
     "start_time": "2024-12-25T17:12:30.726469Z"
    }
   },
   "source": [
    "scores=model.evaluate(test_images,test_labels)"
   ],
   "outputs": [
    {
     "name": "stdout",
     "output_type": "stream",
     "text": [
      "\u001B[1m313/313\u001B[0m \u001B[32m━━━━━━━━━━━━━━━━━━━━\u001B[0m\u001B[37m\u001B[0m \u001B[1m0s\u001B[0m 1ms/step - accuracy: 0.9758 - loss: 0.0757\n"
     ]
    }
   ],
   "execution_count": 57
  },
  {
   "cell_type": "code",
   "id": "87c690b3",
   "metadata": {
    "ExecuteTime": {
     "end_time": "2024-12-25T17:12:31.286758Z",
     "start_time": "2024-12-25T17:12:31.284939Z"
    }
   },
   "source": [
    "# !pip install pydot"
   ],
   "outputs": [],
   "execution_count": 58
  },
  {
   "cell_type": "code",
   "id": "39719e89",
   "metadata": {
    "ExecuteTime": {
     "end_time": "2024-12-25T17:12:31.338734Z",
     "start_time": "2024-12-25T17:12:31.336909Z"
    }
   },
   "source": [
    "# !pip install graphviz"
   ],
   "outputs": [],
   "execution_count": 59
  },
  {
   "cell_type": "code",
   "id": "bb257f84",
   "metadata": {
    "ExecuteTime": {
     "end_time": "2024-12-25T17:12:31.392005Z",
     "start_time": "2024-12-25T17:12:31.390133Z"
    }
   },
   "source": [
    "# from keras.utils.vis_utils import plot_model"
   ],
   "outputs": [],
   "execution_count": 60
  },
  {
   "cell_type": "code",
   "id": "34fa7ca3",
   "metadata": {
    "ExecuteTime": {
     "end_time": "2024-12-25T17:12:31.435720Z",
     "start_time": "2024-12-25T17:12:31.433218Z"
    }
   },
   "source": [
    "# plot_model(model, to_file='model_plotCNN.png', show_shapes=True, show_layer_names=True)"
   ],
   "outputs": [],
   "execution_count": 61
  },
  {
   "cell_type": "code",
   "id": "08a4f893",
   "metadata": {
    "ExecuteTime": {
     "end_time": "2024-12-25T17:12:31.705533Z",
     "start_time": "2024-12-25T17:12:31.480295Z"
    }
   },
   "source": [
    "plt.plot(history.history[\"accuracy\"],label=\"train\")\n",
    "plt.plot(history.history[\"val_accuracy\"],label=\"test\")\n",
    "plt.legend()"
   ],
   "outputs": [
    {
     "data": {
      "text/plain": [
       "<matplotlib.legend.Legend at 0x7f56f0442bc0>"
      ]
     },
     "execution_count": 62,
     "metadata": {},
     "output_type": "execute_result"
    },
    {
     "data": {
      "text/plain": [
       "<Figure size 640x480 with 1 Axes>"
      ],
      "image/png": "[encoded data removed]"
     },
     "metadata": {},
     "output_type": "display_data"
    }
   ],
   "execution_count": 62
  },
  {
   "cell_type": "markdown",
   "id": "deb67149",
   "metadata": {},
   "source": [
    "## Another Eg: Recognising Clothes"
   ]
  },
  {
   "cell_type": "code",
   "id": "951d7fdd",
   "metadata": {
    "ExecuteTime": {
     "end_time": "2024-12-25T17:12:31.717665Z",
     "start_time": "2024-12-25T17:12:31.715689Z"
    }
   },
   "source": [
    "fashion_mnist=tf.keras.datasets.fashion_mnist"
   ],
   "outputs": [],
   "execution_count": 63
  },
  {
   "cell_type": "code",
   "id": "ab4255dc",
   "metadata": {
    "ExecuteTime": {
     "end_time": "2024-12-25T17:12:32.056581Z",
     "start_time": "2024-12-25T17:12:31.760189Z"
    }
   },
   "source": [
    "(train_images,train_labels),(test_images,test_labels)=fashion_mnist.load_data()"
   ],
   "outputs": [],
   "execution_count": 64
  },
  {
   "cell_type": "code",
   "id": "220f2839",
   "metadata": {
    "ExecuteTime": {
     "end_time": "2024-12-25T17:12:33.418427Z",
     "start_time": "2024-12-25T17:12:32.065697Z"
    }
   },
   "source": [
    "plt.figure(figsize=(10,10))\n",
    "for i in range(25):\n",
    "    plt.subplot(5,5,i+1)\n",
    "    plt.imshow(train_images[i],cmap=\"gray\")"
   ],
   "outputs": [
    {
     "data": {
      "text/plain": [
       "<Figure size 1000x1000 with 25 Axes>"
      ],
      "image/png": "[encoded data removed]"
     },
     "metadata": {},
     "output_type": "display_data"
    }
   ],
   "execution_count": 65
  },
  {
   "cell_type": "code",
   "id": "170ca96b",
   "metadata": {
    "ExecuteTime": {
     "end_time": "2024-12-25T17:12:33.628779Z",
     "start_time": "2024-12-25T17:12:33.427689Z"
    }
   },
   "source": [
    "train_images=train_images/255.0\n",
    "test_images=test_images/255.0"
   ],
   "outputs": [],
   "execution_count": 66
  },
  {
   "cell_type": "code",
   "id": "458cca60",
   "metadata": {
    "ExecuteTime": {
     "end_time": "2024-12-25T17:12:33.664904Z",
     "start_time": "2024-12-25T17:12:33.639876Z"
    }
   },
   "source": [
    "# same as model.add but cleaner code\n",
    "model=Sequential([\n",
    "    Flatten(input_shape=(28,28)),\n",
    "    Dense(128,activation='relu'),\n",
    "    Dense(128,activation='relu'),\n",
    "    Dense(10)\n",
    "])\n",
    "model.compile(\n",
    "    loss=tf.keras.losses.SparseCategoricalCrossentropy(from_logits=True),\n",
    "    optimizer='adam',\n",
    "    metrics=['accuracy']  # Put 'accuracy' inside a list\n",
    ")\n"
   ],
   "outputs": [],
   "execution_count": 67
  },
  {
   "cell_type": "code",
   "id": "db9f631d",
   "metadata": {
    "ExecuteTime": {
     "end_time": "2024-12-25T17:12:33.694176Z",
     "start_time": "2024-12-25T17:12:33.692328Z"
    }
   },
   "source": [
    "# input layer as flatten: for computer, images are just numbers. Flatten just converts the nxn matrix to a n^2 x 1 or 1 x n^2 row/column"
   ],
   "outputs": [],
   "execution_count": 68
  },
  {
   "cell_type": "code",
   "id": "4864aba9",
   "metadata": {
    "ExecuteTime": {
     "end_time": "2024-12-25T17:12:57.190215Z",
     "start_time": "2024-12-25T17:12:33.738577Z"
    }
   },
   "source": [
    "model.fit(train_images,train_labels,epochs=10,verbose=1)"
   ],
   "outputs": [
    {
     "name": "stdout",
     "output_type": "stream",
     "text": [
      "Epoch 1/10\n",
      "\u001B[1m1875/1875\u001B[0m \u001B[32m━━━━━━━━━━━━━━━━━━━━\u001B[0m\u001B[37m\u001B[0m \u001B[1m3s\u001B[0m 1ms/step - accuracy: 0.7776 - loss: 0.6273\n",
      "Epoch 2/10\n",
      "\u001B[1m1875/1875\u001B[0m \u001B[32m━━━━━━━━━━━━━━━━━━━━\u001B[0m\u001B[37m\u001B[0m \u001B[1m2s\u001B[0m 1ms/step - accuracy: 0.8635 - loss: 0.3692\n",
      "Epoch 3/10\n",
      "\u001B[1m1875/1875\u001B[0m \u001B[32m━━━━━━━━━━━━━━━━━━━━\u001B[0m\u001B[37m\u001B[0m \u001B[1m2s\u001B[0m 1ms/step - accuracy: 0.8775 - loss: 0.3291\n",
      "Epoch 4/10\n",
      "\u001B[1m1875/1875\u001B[0m \u001B[32m━━━━━━━━━━━━━━━━━━━━\u001B[0m\u001B[37m\u001B[0m \u001B[1m2s\u001B[0m 1ms/step - accuracy: 0.8863 - loss: 0.3095\n",
      "Epoch 5/10\n",
      "\u001B[1m1875/1875\u001B[0m \u001B[32m━━━━━━━━━━━━━━━━━━━━\u001B[0m\u001B[37m\u001B[0m \u001B[1m2s\u001B[0m 1ms/step - accuracy: 0.8939 - loss: 0.2863\n",
      "Epoch 6/10\n",
      "\u001B[1m1875/1875\u001B[0m \u001B[32m━━━━━━━━━━━━━━━━━━━━\u001B[0m\u001B[37m\u001B[0m \u001B[1m2s\u001B[0m 1ms/step - accuracy: 0.9009 - loss: 0.2654\n",
      "Epoch 7/10\n",
      "\u001B[1m1875/1875\u001B[0m \u001B[32m━━━━━━━━━━━━━━━━━━━━\u001B[0m\u001B[37m\u001B[0m \u001B[1m2s\u001B[0m 1ms/step - accuracy: 0.9033 - loss: 0.2578\n",
      "Epoch 8/10\n",
      "\u001B[1m1875/1875\u001B[0m \u001B[32m━━━━━━━━━━━━━━━━━━━━\u001B[0m\u001B[37m\u001B[0m \u001B[1m2s\u001B[0m 1ms/step - accuracy: 0.9062 - loss: 0.2486\n",
      "Epoch 9/10\n",
      "\u001B[1m1875/1875\u001B[0m \u001B[32m━━━━━━━━━━━━━━━━━━━━\u001B[0m\u001B[37m\u001B[0m \u001B[1m2s\u001B[0m 1ms/step - accuracy: 0.9080 - loss: 0.2418\n",
      "Epoch 10/10\n",
      "\u001B[1m1875/1875\u001B[0m \u001B[32m━━━━━━━━━━━━━━━━━━━━\u001B[0m\u001B[37m\u001B[0m \u001B[1m2s\u001B[0m 1ms/step - accuracy: 0.9119 - loss: 0.2337\n"
     ]
    },
    {
     "data": {
      "text/plain": [
       "<keras.src.callbacks.history.History at 0x7f5707426440>"
      ]
     },
     "execution_count": 69,
     "metadata": {},
     "output_type": "execute_result"
    }
   ],
   "execution_count": 69
  },
  {
   "cell_type": "code",
   "id": "6e65a8a1",
   "metadata": {
    "ExecuteTime": {
     "end_time": "2024-12-25T17:12:58.081106Z",
     "start_time": "2024-12-25T17:12:57.204129Z"
    }
   },
   "source": [
    "scores=model.evaluate(test_images,test_labels)"
   ],
   "outputs": [
    {
     "name": "stdout",
     "output_type": "stream",
     "text": [
      "\u001B[1m313/313\u001B[0m \u001B[32m━━━━━━━━━━━━━━━━━━━━\u001B[0m\u001B[37m\u001B[0m \u001B[1m1s\u001B[0m 2ms/step - accuracy: 0.8837 - loss: 0.3258\n"
     ]
    }
   ],
   "execution_count": 70
  },
  {
   "cell_type": "markdown",
   "id": "2c7389ff",
   "metadata": {},
   "source": [
    "### Using CNN"
   ]
  },
  {
   "cell_type": "code",
   "id": "f90de7c5",
   "metadata": {
    "ExecuteTime": {
     "end_time": "2024-12-25T17:12:58.108154Z",
     "start_time": "2024-12-25T17:12:58.088473Z"
    }
   },
   "source": [
    "\n",
    "# Define the model\n",
    "model = Sequential()\n",
    "model.add(InputLayer(input_shape=(28, 28)))  # Input layer\n",
    "model.add(Reshape(target_shape=(28, 28, 1)))  # Reshape to (28, 28, 1) for CNN\n",
    "model.add(Conv2D(filters=12, kernel_size=(3, 3), activation='relu'))  # Convolutional layer\n",
    "model.add(MaxPooling2D(pool_size=(2, 2)))  # Max pooling layer\n",
    "model.add(Flatten())  # Flatten the output\n",
    "model.add(Dense(10))  # Output layer with 10 units for 10 classes\n",
    "\n",
    "# Compile the model\n",
    "model.compile(\n",
    "    loss=tf.keras.losses.SparseCategoricalCrossentropy(from_logits=True),\n",
    "    optimizer='adam',\n",
    "    metrics=['accuracy']  # Corrected to use a list for metrics\n",
    ")"
   ],
   "outputs": [],
   "execution_count": 71
  },
  {
   "cell_type": "code",
   "id": "359462cf",
   "metadata": {
    "ExecuteTime": {
     "end_time": "2024-12-25T17:13:25.354115Z",
     "start_time": "2024-12-25T17:12:58.133708Z"
    }
   },
   "source": [
    "model.fit(train_images,train_labels,epochs=10,verbose=1,validation_data=(test_images,test_labels))"
   ],
   "outputs": [
    {
     "name": "stdout",
     "output_type": "stream",
     "text": [
      "Epoch 1/10\n",
      "\u001B[1m1875/1875\u001B[0m \u001B[32m━━━━━━━━━━━━━━━━━━━━\u001B[0m\u001B[37m\u001B[0m \u001B[1m4s\u001B[0m 2ms/step - accuracy: 0.7770 - loss: 0.6555 - val_accuracy: 0.8773 - val_loss: 0.3563\n",
      "Epoch 2/10\n",
      "\u001B[1m1875/1875\u001B[0m \u001B[32m━━━━━━━━━━━━━━━━━━━━\u001B[0m\u001B[37m\u001B[0m \u001B[1m3s\u001B[0m 1ms/step - accuracy: 0.8838 - loss: 0.3336 - val_accuracy: 0.8866 - val_loss: 0.3243\n",
      "Epoch 3/10\n",
      "\u001B[1m1875/1875\u001B[0m \u001B[32m━━━━━━━━━━━━━━━━━━━━\u001B[0m\u001B[37m\u001B[0m \u001B[1m2s\u001B[0m 1ms/step - accuracy: 0.8967 - loss: 0.2951 - val_accuracy: 0.8935 - val_loss: 0.3050\n",
      "Epoch 4/10\n",
      "\u001B[1m1875/1875\u001B[0m \u001B[32m━━━━━━━━━━━━━━━━━━━━\u001B[0m\u001B[37m\u001B[0m \u001B[1m3s\u001B[0m 1ms/step - accuracy: 0.9045 - loss: 0.2722 - val_accuracy: 0.8925 - val_loss: 0.3012\n",
      "Epoch 5/10\n",
      "\u001B[1m1875/1875\u001B[0m \u001B[32m━━━━━━━━━━━━━━━━━━━━\u001B[0m\u001B[37m\u001B[0m \u001B[1m3s\u001B[0m 1ms/step - accuracy: 0.9054 - loss: 0.2654 - val_accuracy: 0.8963 - val_loss: 0.2922\n",
      "Epoch 6/10\n",
      "\u001B[1m1875/1875\u001B[0m \u001B[32m━━━━━━━━━━━━━━━━━━━━\u001B[0m\u001B[37m\u001B[0m \u001B[1m3s\u001B[0m 1ms/step - accuracy: 0.9126 - loss: 0.2466 - val_accuracy: 0.8944 - val_loss: 0.2941\n",
      "Epoch 7/10\n",
      "\u001B[1m1875/1875\u001B[0m \u001B[32m━━━━━━━━━━━━━━━━━━━━\u001B[0m\u001B[37m\u001B[0m \u001B[1m3s\u001B[0m 1ms/step - accuracy: 0.9121 - loss: 0.2439 - val_accuracy: 0.8991 - val_loss: 0.2853\n",
      "Epoch 8/10\n",
      "\u001B[1m1875/1875\u001B[0m \u001B[32m━━━━━━━━━━━━━━━━━━━━\u001B[0m\u001B[37m\u001B[0m \u001B[1m2s\u001B[0m 1ms/step - accuracy: 0.9164 - loss: 0.2338 - val_accuracy: 0.9009 - val_loss: 0.2797\n",
      "Epoch 9/10\n",
      "\u001B[1m1875/1875\u001B[0m \u001B[32m━━━━━━━━━━━━━━━━━━━━\u001B[0m\u001B[37m\u001B[0m \u001B[1m3s\u001B[0m 2ms/step - accuracy: 0.9173 - loss: 0.2286 - val_accuracy: 0.9023 - val_loss: 0.2779\n",
      "Epoch 10/10\n",
      "\u001B[1m1875/1875\u001B[0m \u001B[32m━━━━━━━━━━━━━━━━━━━━\u001B[0m\u001B[37m\u001B[0m \u001B[1m2s\u001B[0m 1ms/step - accuracy: 0.9221 - loss: 0.2174 - val_accuracy: 0.8981 - val_loss: 0.2854\n"
     ]
    },
    {
     "data": {
      "text/plain": [
       "<keras.src.callbacks.history.History at 0x7f5706b43ca0>"
      ]
     },
     "execution_count": 72,
     "metadata": {},
     "output_type": "execute_result"
    }
   ],
   "execution_count": 72
  },
  {
   "cell_type": "code",
   "id": "4139cfff",
   "metadata": {
    "ExecuteTime": {
     "end_time": "2024-12-25T17:13:25.743575Z",
     "start_time": "2024-12-25T17:13:25.369371Z"
    }
   },
   "source": [
    "scores=model.evaluate(test_images,test_labels)"
   ],
   "outputs": [
    {
     "name": "stdout",
     "output_type": "stream",
     "text": [
      "\u001B[1m313/313\u001B[0m \u001B[32m━━━━━━━━━━━━━━━━━━━━\u001B[0m\u001B[37m\u001B[0m \u001B[1m0s\u001B[0m 998us/step - accuracy: 0.8997 - loss: 0.2903\n"
     ]
    }
   ],
   "execution_count": 73
  },
  {
   "cell_type": "code",
   "id": "c197a846",
   "metadata": {
    "ExecuteTime": {
     "end_time": "2024-12-25T17:13:25.755629Z",
     "start_time": "2024-12-25T17:13:25.754072Z"
    }
   },
   "source": [],
   "outputs": [],
   "execution_count": null
  }
 ],
 "metadata": {
  "kernelspec": {
   "display_name": "Python 3 (ipykernel)",
   "language": "python",
   "name": "python3"
  },
  "language_info": {
   "codemirror_mode": {
    "name": "ipython",
    "version": 3
   },
   "file_extension": ".py",
   "mimetype": "text/x-python",
   "name": "python",
   "nbconvert_exporter": "python",
   "pygments_lexer": "ipython3",
   "version": "3.10.9"
  }
 },
 "nbformat": 4,
 "nbformat_minor": 5
}
